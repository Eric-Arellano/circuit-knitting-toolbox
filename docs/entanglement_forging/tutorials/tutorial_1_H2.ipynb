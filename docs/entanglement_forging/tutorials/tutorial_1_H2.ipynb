{
 "cells": [
  {
   "cell_type": "markdown",
   "metadata": {},
   "source": [
    "# Tutorial 1: Entanglement Forging VQE for the $\\mathrm{H}_2$ molecule\n",
    "\n",
    "In this tutorial, we apply Entanglement Forging to compute the energy of a $\\mathrm{H}_2$ molecule. \n",
    "\n",
    "For comparison, you may wish to review how regular VQE is used to solve the same problem [here](https://github.com/Qiskit/qiskit-nature/blob/stable/0.1/docs/tutorials/03_ground_state_solvers.ipynb). "
   ]
  },
  {
   "cell_type": "markdown",
   "metadata": {},
   "source": [
    "### Importing the relevant modules"
   ]
  },
  {
   "cell_type": "code",
   "execution_count": 2,
   "metadata": {
    "ExecuteTime": {
     "end_time": "2021-04-27T13:41:07.878080Z",
     "start_time": "2021-04-27T13:41:05.980627Z"
    },
    "tags": []
   },
   "outputs": [],
   "source": [
    "from matplotlib import pyplot as plt\n",
    "import numpy as np\n",
    "\n",
    "from qiskit.circuit.library import TwoLocal\n",
    "from qiskit.algorithms.optimizers import COBYLA\n",
    "from qiskit.algorithms.optimizers.spsa import powerseries\n",
    "from qiskit_nature.drivers import Molecule\n",
    "from qiskit_nature.drivers.second_quantization import PySCFDriver\n",
    "from qiskit_nature.problems.second_quantization import ElectronicStructureProblem\n",
    "from qiskit_nature.mappers.second_quantization import JordanWignerMapper\n",
    "from qiskit_nature.converters.second_quantization import QubitConverter\n",
    "from qiskit_nature.algorithms.ground_state_solvers import (\n",
    "    GroundStateEigensolver,\n",
    "    NumPyMinimumEigensolverFactory,\n",
    ")\n",
    "\n",
    "from circuit_knitting_toolbox.entanglement_forging import (\n",
    "    EntanglementForgingAnsatz,\n",
    "    EntanglementForgingGroundStateSolver,\n",
    ")"
   ]
  },
  {
   "cell_type": "markdown",
   "metadata": {},
   "source": [
    "### Set up the $\\mathrm{H}_2$ molecule, specify the driver and converter, and instantiate the `ElectronicStructureProblem`"
   ]
  },
  {
   "cell_type": "code",
   "execution_count": 3,
   "metadata": {
    "ExecuteTime": {
     "end_time": "2021-04-27T13:41:07.934705Z",
     "start_time": "2021-04-27T13:41:07.880717Z"
    }
   },
   "outputs": [],
   "source": [
    "molecule = Molecule(\n",
    "    geometry=[\n",
    "        (\"H\", [0.0, 0.0, 0.0]),\n",
    "        (\"H\", [0.0, 0.0, 0.735]),\n",
    "    ],\n",
    "    charge=0,\n",
    "    multiplicity=1,\n",
    ")\n",
    "driver = PySCFDriver.from_molecule(molecule=molecule)\n",
    "problem = ElectronicStructureProblem(driver)\n",
    "converter = QubitConverter(JordanWignerMapper())"
   ]
  },
  {
   "cell_type": "markdown",
   "metadata": {},
   "source": [
    "### Compute the classical result\n",
    "\n",
    "For comparison, we also compute the classical result. "
   ]
  },
  {
   "cell_type": "code",
   "execution_count": 4,
   "metadata": {
    "ExecuteTime": {
     "end_time": "2021-04-27T13:41:08.499392Z",
     "start_time": "2021-04-27T13:41:08.080069Z"
    }
   },
   "outputs": [
    {
     "name": "stdout",
     "output_type": "stream",
     "text": [
      "Classical energy =  -1.1373060357534057\n"
     ]
    }
   ],
   "source": [
    "solver = GroundStateEigensolver(\n",
    "    converter, NumPyMinimumEigensolverFactory(use_default_filter_criterion=False)\n",
    ")\n",
    "\n",
    "result = solver.solve(problem)\n",
    "classical_energy = result.total_energies[0]\n",
    "\n",
    "print(\"Classical energy = \", classical_energy)"
   ]
  },
  {
   "cell_type": "markdown",
   "metadata": {},
   "source": [
    "### Prepare the bitstrings and the ansatz"
   ]
  },
  {
   "cell_type": "markdown",
   "metadata": {},
   "source": [
    "The ansatz for Entanglement Forging consists of a set of input bitstrings and a parameterized circuit. For this demo, we will use the same bitstrings and ansatz for both the U and V subsystems."
   ]
  },
  {
   "cell_type": "code",
   "execution_count": 5,
   "metadata": {
    "ExecuteTime": {
     "end_time": "2021-04-27T13:41:08.939346Z",
     "start_time": "2021-04-27T13:41:08.501552Z"
    },
    "scrolled": true
   },
   "outputs": [
    {
     "data": {
      "text/html": [
       "<pre style=\"word-wrap: normal;white-space: pre;background: #fff0;line-height: 1.1;font-family: &quot;Courier New&quot;,Courier,monospace\">     ┌──────────────────────┐\n",
       "q_0: ┤0                     ├\n",
       "     │  TwoLocal(θ[0],θ[1]) │\n",
       "q_1: ┤1                     ├\n",
       "     └──────────────────────┘</pre>"
      ],
      "text/plain": [
       "     ┌──────────────────────┐\n",
       "q_0: ┤0                     ├\n",
       "     │  TwoLocal(θ[0],θ[1]) │\n",
       "q_1: ┤1                     ├\n",
       "     └──────────────────────┘"
      ]
     },
     "execution_count": 5,
     "metadata": {},
     "output_type": "execute_result"
    }
   ],
   "source": [
    "ansatz = EntanglementForgingAnsatz(\n",
    "    circuit_u=TwoLocal(2, [], \"cry\", [[0, 1], [1, 0]], reps=1),\n",
    "    bitstrings_u=[(1, 0), (0, 1)],\n",
    ")\n",
    "\n",
    "ansatz.circuit_u.draw()"
   ]
  },
  {
   "cell_type": "markdown",
   "metadata": {},
   "source": [
    "### Set up `EntanglementForgingGroundStateSolver`"
   ]
  },
  {
   "cell_type": "code",
   "execution_count": 6,
   "metadata": {
    "ExecuteTime": {
     "end_time": "2021-04-27T13:41:18.545432Z",
     "start_time": "2021-04-27T13:41:09.239553Z"
    }
   },
   "outputs": [],
   "source": [
    "optimizer = COBYLA(maxiter=100)\n",
    "\n",
    "solver = EntanglementForgingGroundStateSolver(\n",
    "    ansatz=ansatz,\n",
    "    optimizer=optimizer,\n",
    "    initial_point=[0.0, np.pi / 2],\n",
    ")"
   ]
  },
  {
   "cell_type": "markdown",
   "metadata": {},
   "source": [
    "### Run the solver to find the minimum eigenvalue\n",
    "* The ansatz field must be set prior to calling solve\n",
    "* If no optimizer is passed, SPSA with default settings will be used\n",
    "* If the initial_point field is not set, it will be initialized to all 0's"
   ]
  },
  {
   "cell_type": "code",
   "execution_count": 7,
   "metadata": {},
   "outputs": [],
   "source": [
    "results = solver.solve(problem)"
   ]
  },
  {
   "cell_type": "markdown",
   "metadata": {},
   "source": [
    "### Apply the energy shift and compare the estimated ground state energy with the classically calculated value"
   ]
  },
  {
   "cell_type": "code",
   "execution_count": 8,
   "metadata": {},
   "outputs": [
    {
     "name": "stdout",
     "output_type": "stream",
     "text": [
      "Classically calculated ground state energy: -1.1373060357534057\n",
      "Entanglement forging ground state energy: -1.1365553971263567\n"
     ]
    }
   ],
   "source": [
    "print(f\"Classically calculated ground state energy: {classical_energy}\")\n",
    "print(\n",
    "    f\"Entanglement forging ground state energy: {results.groundenergy + results.energy_shift}\"\n",
    ")"
   ]
  },
  {
   "cell_type": "markdown",
   "metadata": {},
   "source": [
    "### We can also extract the results at each iteration of the classical optimizer.  "
   ]
  },
  {
   "cell_type": "code",
   "execution_count": 9,
   "metadata": {
    "ExecuteTime": {
     "end_time": "2021-04-27T13:41:19.072518Z",
     "start_time": "2021-04-27T13:41:18.547517Z"
    }
   },
   "outputs": [
    {
     "name": "stdout",
     "output_type": "stream",
     "text": [
      "Energy:\n"
     ]
    },
    {
     "data": {
      "image/png": "[encoded data removed]",
      "text/plain": [
       "<Figure size 432x288 with 1 Axes>"
      ]
     },
     "metadata": {
      "needs_background": "light"
     },
     "output_type": "display_data"
    },
    {
     "name": "stdout",
     "output_type": "stream",
     "text": [
      "Schmidt Coefficients:\n"
     ]
    },
    {
     "data": {
      "image/png": "[encoded data removed]",
      "text/plain": [
       "<Figure size 432x288 with 1 Axes>"
      ]
     },
     "metadata": {
      "needs_background": "light"
     },
     "output_type": "display_data"
    },
    {
     "name": "stdout",
     "output_type": "stream",
     "text": [
      "Parameters:\n"
     ]
    },
    {
     "data": {
      "image/png": "[encoded data removed]",
      "text/plain": [
       "<Figure size 432x288 with 1 Axes>"
      ]
     },
     "metadata": {
      "needs_background": "light"
     },
     "output_type": "display_data"
    }
   ],
   "source": [
    "print(\"Energy:\")\n",
    "plt.plot([evaluation.eigenvalue for evaluation in results.history])\n",
    "plt.xlabel(\"Iterations\")\n",
    "plt.show()\n",
    "\n",
    "print(\"Schmidt Coefficients:\")\n",
    "plt.plot([abs(evaluation.eigenstate) for evaluation in results.history])\n",
    "plt.xlabel(\"Iterations\")\n",
    "plt.yscale(\"log\")\n",
    "plt.show()\n",
    "\n",
    "print(\"Parameters:\")\n",
    "plt.plot([evaluation.parameters for evaluation in results.history])\n",
    "plt.xlabel(\"Iterations\")\n",
    "plt.show()"
   ]
  },
  {
   "cell_type": "code",
   "execution_count": 10,
   "metadata": {},
   "outputs": [
    {
     "data": {
      "text/html": [
       "<h3>Version Information</h3><table><tr><th>Qiskit Software</th><th>Version</th></tr><tr><td><code>qiskit-terra</code></td><td>0.21.1</td></tr><tr><td><code>qiskit-aer</code></td><td>0.10.4</td></tr><tr><td><code>qiskit-ibmq-provider</code></td><td>0.19.2</td></tr><tr><td><code>qiskit</code></td><td>0.37.1</td></tr><tr><td><code>qiskit-nature</code></td><td>0.4.3</td></tr><tr><td><code>qiskit-machine-learning</code></td><td>0.4.0</td></tr><tr><th>System information</th></tr><tr><td>Python version</td><td>3.9.12</td></tr><tr><td>Python compiler</td><td>Clang 12.0.0 </td></tr><tr><td>Python build</td><td>main, Jun  1 2022 06:36:29</td></tr><tr><td>OS</td><td>Darwin</td></tr><tr><td>CPUs</td><td>8</td></tr><tr><td>Memory (Gb)</td><td>32.0</td></tr><tr><td colspan='2'>Fri Sep 02 17:59:06 2022 CDT</td></tr></table>"
      ],
      "text/plain": [
       "<IPython.core.display.HTML object>"
      ]
     },
     "metadata": {},
     "output_type": "display_data"
    },
    {
     "data": {
      "text/html": [
       "<div style='width: 100%; background-color:#d5d9e0;padding-left: 10px; padding-bottom: 10px; padding-right: 10px; padding-top: 5px'><h3>This code is a part of Qiskit</h3><p>&copy; Copyright IBM 2017, 2022.</p><p>This code is licensed under the Apache License, Version 2.0. You may<br>obtain a copy of this license in the LICENSE.txt file in the root directory<br> of this source tree or at http://www.apache.org/licenses/LICENSE-2.0.<p>Any modifications or derivative works of this code must retain this<br>copyright notice, and modified files need to carry a notice indicating<br>that they have been altered from the originals.</p></div>"
      ],
      "text/plain": [
       "<IPython.core.display.HTML object>"
      ]
     },
     "metadata": {},
     "output_type": "display_data"
    }
   ],
   "source": [
    "import qiskit.tools.jupyter\n",
    "\n",
    "%qiskit_version_table\n",
    "%qiskit_copyright"
   ]
  }
 ],
 "metadata": {
  "kernelspec": {
   "display_name": "Python 3 (ipykernel)",
   "language": "python",
   "name": "python3"
  },
  "language_info": {
   "codemirror_mode": {
    "name": "ipython",
    "version": 3
   },
   "file_extension": ".py",
   "mimetype": "text/x-python",
   "name": "python",
   "nbconvert_exporter": "python",
   "pygments_lexer": "ipython3",
   "version": "3.9.12"
  },
  "vscode": {
   "interpreter": {
    "hash": "987cdf5eeb33585dc719bb9ff4378c2f5c2124692c306f8bea7b3d839af38946"
   }
  }
 },
 "nbformat": 4,
 "nbformat_minor": 4
}
