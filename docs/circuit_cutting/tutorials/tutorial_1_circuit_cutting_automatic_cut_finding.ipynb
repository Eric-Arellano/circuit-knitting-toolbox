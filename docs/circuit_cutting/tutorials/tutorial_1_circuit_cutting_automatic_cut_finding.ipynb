{
 "cells": [
  {
   "cell_type": "markdown",
   "id": "c6cd641f",
   "metadata": {},
   "source": [
    "## Circuit cutting with automatic cut finding using the Circuit Knitting Toolbox"
   ]
  },
  {
   "cell_type": "markdown",
   "id": "e7043390",
   "metadata": {},
   "source": [
    "### Import relevant modules"
   ]
  },
  {
   "cell_type": "code",
   "execution_count": 1,
   "id": "31fe2cf1",
   "metadata": {},
   "outputs": [],
   "source": [
    "import numpy as np\n",
    "from qiskit import QuantumCircuit\n",
    "\n",
    "from circuit_knitting_toolbox.circuit_cutting import WireCutter"
   ]
  },
  {
   "cell_type": "markdown",
   "id": "3c17f515",
   "metadata": {},
   "source": [
    "### Create a circuit to cut"
   ]
  },
  {
   "cell_type": "code",
   "execution_count": 2,
   "id": "eb859bde",
   "metadata": {},
   "outputs": [
    {
     "data": {
      "text/html": [
       "<pre style=\"word-wrap: normal;white-space: pre;background: #fff0;line-height: 1.1;font-family: &quot;Courier New&quot;,Courier,monospace\">     ┌───┐                ┌─────────┐   ┌───┐   ┌───┐\n",
       "q_0: ┤ H ├──■───────■─────┤ Rx(π/2) ├───┤ T ├───┤ H ├\n",
       "     ├───┤┌─┴─┐     │     ├─────────┤   ├───┤   ├───┤\n",
       "q_1: ┤ H ├┤ X ├─────┼─────┤ Rx(π/2) ├───┤ T ├───┤ H ├\n",
       "     ├───┤├───┤   ┌─┴─┐   └─────────┘   └───┘   ├───┤\n",
       "q_2: ┤ H ├┤ T ├───┤ X ├────────■──────────■─────┤ H ├\n",
       "     ├───┤├───┤   └───┘        │        ┌─┴─┐   ├───┤\n",
       "q_3: ┤ H ├┤ T ├────────────────┼────────┤ X ├───┤ H ├\n",
       "     ├───┤├───┤┌─────────┐   ┌─┴─┐   ┌──┴───┴──┐├───┤\n",
       "q_4: ┤ H ├┤ T ├┤ Rx(π/2) ├───┤ X ├───┤ Ry(π/2) ├┤ H ├\n",
       "     └───┘└───┘└─────────┘   └───┘   └─────────┘└───┘</pre>"
      ],
      "text/plain": [
       "     ┌───┐                ┌─────────┐   ┌───┐   ┌───┐\n",
       "q_0: ┤ H ├──■───────■─────┤ Rx(π/2) ├───┤ T ├───┤ H ├\n",
       "     ├───┤┌─┴─┐     │     ├─────────┤   ├───┤   ├───┤\n",
       "q_1: ┤ H ├┤ X ├─────┼─────┤ Rx(π/2) ├───┤ T ├───┤ H ├\n",
       "     ├───┤├───┤   ┌─┴─┐   └─────────┘   └───┘   ├───┤\n",
       "q_2: ┤ H ├┤ T ├───┤ X ├────────■──────────■─────┤ H ├\n",
       "     ├───┤├───┤   └───┘        │        ┌─┴─┐   ├───┤\n",
       "q_3: ┤ H ├┤ T ├────────────────┼────────┤ X ├───┤ H ├\n",
       "     ├───┤├───┤┌─────────┐   ┌─┴─┐   ┌──┴───┴──┐├───┤\n",
       "q_4: ┤ H ├┤ T ├┤ Rx(π/2) ├───┤ X ├───┤ Ry(π/2) ├┤ H ├\n",
       "     └───┘└───┘└─────────┘   └───┘   └─────────┘└───┘"
      ]
     },
     "execution_count": 2,
     "metadata": {},
     "output_type": "execute_result"
    }
   ],
   "source": [
    "qc = QuantumCircuit(5)\n",
    "for i in range(5):\n",
    "    qc.h(i)\n",
    "qc.cx(0, 1)\n",
    "for i in range(2, 5):\n",
    "    qc.t(i)\n",
    "qc.cx(0, 2)\n",
    "qc.rx(np.pi / 2, 4)\n",
    "qc.rx(np.pi / 2, 0)\n",
    "qc.rx(np.pi / 2, 1)\n",
    "qc.cx(2, 4)\n",
    "qc.t(0)\n",
    "qc.t(1)\n",
    "qc.cx(2, 3)\n",
    "qc.ry(np.pi / 2, 4)\n",
    "for i in range(5):\n",
    "    qc.h(i)\n",
    "\n",
    "qc.draw()"
   ]
  },
  {
   "cell_type": "markdown",
   "id": "61d2944a",
   "metadata": {},
   "source": [
    "### Load a WireCutter object with our QuantumCircuit and find a cutting scheme that meets our criteria"
   ]
  },
  {
   "cell_type": "code",
   "execution_count": 3,
   "id": "57c8dccb",
   "metadata": {},
   "outputs": [
    {
     "name": "stdout",
     "output_type": "stream",
     "text": [
      "Exporting as a LP file to let you check the model that will be solved :  inf <class 'float'>\n",
      "Version identifier: 22.1.0.0 | 2022-03-09 | 1a383f8ce\n",
      "CPXPARAM_Read_DataCheck                          1\n",
      "CPXPARAM_TimeLimit                               300\n",
      "Warning:  Non-integral bounds for integer variables rounded.\n",
      "Tried aggregator 3 times.\n",
      "MIP Presolve eliminated 23 rows and 5 columns.\n",
      "MIP Presolve modified 4 coefficients.\n",
      "Aggregator did 22 substitutions.\n",
      "Reduced MIP has 47 rows, 24 columns, and 142 nonzeros.\n",
      "Reduced MIP has 15 binaries, 9 generals, 0 SOSs, and 0 indicators.\n",
      "Presolve time = 0.00 sec. (0.36 ticks)\n",
      "Found incumbent of value 1.000000 after 0.01 sec. (0.51 ticks)\n",
      "Probing fixed 6 vars, tightened 8 bounds.\n",
      "Probing changed sense of 12 constraints.\n",
      "Probing time = 0.00 sec. (0.06 ticks)\n",
      "Cover probing fixed 0 vars, tightened 24 bounds.\n",
      "Tried aggregator 1 time.\n",
      "MIP Presolve eliminated 47 rows and 24 columns.\n",
      "All rows and columns eliminated.\n",
      "Presolve time = 0.00 sec. (0.02 ticks)\n",
      "\n",
      "Root node processing (before b&c):\n",
      "  Real time             =    0.01 sec. (0.60 ticks)\n",
      "Parallel b&c, 16 threads:\n",
      "  Real time             =    0.00 sec. (0.00 ticks)\n",
      "  Sync time (average)   =    0.00 sec.\n",
      "  Wait time (average)   =    0.00 sec.\n",
      "                          ------------\n",
      "Total (root+branch&cut) =    0.01 sec. (0.60 ticks)\n",
      "--------------------\n",
      "subcircuit 0\n",
      "ρ qubits = 0, O qubits = 1, width = 3, effective = 2, depth = 6, size = 12\n",
      "     ┌───┐                     ┌─────────┐┌───┐┌───┐\n",
      "q_0: ┤ H ├──■───────────────■──┤ Rx(π/2) ├┤ T ├┤ H ├\n",
      "     ├───┤┌─┴─┐┌─────────┐  │  └──┬───┬──┘├───┤└───┘\n",
      "q_1: ┤ H ├┤ X ├┤ Rx(π/2) ├──┼─────┤ T ├───┤ H ├─────\n",
      "     ├───┤├───┤└─────────┘┌─┴─┐   └───┘   └───┘     \n",
      "q_2: ┤ H ├┤ T ├───────────┤ X ├─────────────────────\n",
      "     └───┘└───┘           └───┘                     \n",
      "subcircuit 1\n",
      "ρ qubits = 1, O qubits = 0, width = 3, effective = 3, depth = 6, size = 11\n",
      "                                          ┌───┐\n",
      "q_0: ───────────────────────■───────■─────┤ H ├\n",
      "     ┌───┐┌───┐             │     ┌─┴─┐   ├───┤\n",
      "q_1: ┤ H ├┤ T ├─────────────┼─────┤ X ├───┤ H ├\n",
      "     ├───┤├───┤┌─────────┐┌─┴─┐┌──┴───┴──┐├───┤\n",
      "q_2: ┤ H ├┤ T ├┤ Rx(π/2) ├┤ X ├┤ Ry(π/2) ├┤ H ├\n",
      "     └───┘└───┘└─────────┘└───┘└─────────┘└───┘\n",
      "Estimated cost = 1.280e+02\n",
      "Model objective value = 1.00e+00\n",
      "MIP runtime: 0.01739501953125\n",
      "NOT OPTIMAL, MIP gap = 0.0\n",
      "--------------------\n"
     ]
    }
   ],
   "source": [
    "cutter = WireCutter(qc)\n",
    "cuts = cutter.cut_automatic(\n",
    "    max_subcircuit_width=3,\n",
    "    max_subcircuit_cuts=10,\n",
    "    max_subcircuit_size=12,\n",
    "    max_cuts=10,\n",
    "    num_subcircuits=[2],\n",
    ")"
   ]
  },
  {
   "cell_type": "markdown",
   "id": "775d78b1",
   "metadata": {},
   "source": [
    "### Define a constant shots function, evaluate our circuit, and verify the results"
   ]
  },
  {
   "cell_type": "code",
   "execution_count": 4,
   "id": "772ad465",
   "metadata": {},
   "outputs": [
    {
     "name": "stdout",
     "output_type": "stream",
     "text": [
      "{'nearest': {'chi2': 0, 'Mean Squared Error': 3.752148580465971e-34, 'Mean Absolute Percentage Error': 7.760053442355182e-14, 'Cross Entropy': 2.599681088367842, 'HOP': 0.9004283905932733}, 'naive': {'chi2': 0, 'Mean Squared Error': 2.793021597327788e-33, 'Mean Absolute Percentage Error': 7.625290711954506e-14, 'Cross Entropy': 2.5996810883678414, 'HOP': 0.900428390593274}}\n"
     ]
    }
   ],
   "source": [
    "def num_shots_fn(circuit):\n",
    "    return 1024\n",
    "\n",
    "\n",
    "unordered_probabilities, smart_order = cutter.evaluate(\n",
    "    cuts, mode=\"sv\", num_shots_fn=num_shots_fn, mem_limit=24, num_threads=4\n",
    ")\n",
    "ordered_probabilities, metrics = cutter.verify(\n",
    "    cuts, unordered_probabilities, smart_order\n",
    ")\n",
    "print(metrics)"
   ]
  }
 ],
 "metadata": {
  "kernelspec": {
   "display_name": "Python 3 (ipykernel)",
   "language": "python",
   "name": "python3"
  },
  "language_info": {
   "codemirror_mode": {
    "name": "ipython",
    "version": 3
   },
   "file_extension": ".py",
   "mimetype": "text/x-python",
   "name": "python",
   "nbconvert_exporter": "python",
   "pygments_lexer": "ipython3",
   "version": "3.9.12"
  }
 },
 "nbformat": 4,
 "nbformat_minor": 5
}
